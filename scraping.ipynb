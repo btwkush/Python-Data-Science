{
 "cells": [
  {
   "cell_type": "code",
   "execution_count": 15,
   "id": "1a7f81f3",
   "metadata": {},
   "outputs": [],
   "source": [
    "from dputils.scrape import Scraper, Tag\n",
    "from pprint import pp"
   ]
  },
  {
   "cell_type": "markdown",
   "id": "85a5b374",
   "metadata": {},
   "source": [
    "- Tag is a class which helps to decide what to collect from the page\n",
    "- Scraper executes the scraping process"
   ]
  },
  {
   "cell_type": "code",
   "execution_count": 16,
   "id": "aba42478",
   "metadata": {},
   "outputs": [],
   "source": [
    "url = \"https://www.flipkart.com/search?q=mobile%20phones&otracker=search&otracker1=search&marketplace=FLIPKART&as-show=on&as=off\""
   ]
  },
  {
   "cell_type": "code",
   "execution_count": 17,
   "id": "eaaaf81f",
   "metadata": {},
   "outputs": [
    {
     "data": {
      "text/plain": [
       "[]"
      ]
     },
     "execution_count": 17,
     "metadata": {},
     "output_type": "execute_result"
    }
   ],
   "source": [
    "scraper = Scraper(url)\n",
    "scraper.get_repeating_date_from_page()"
   ]
  },
  {
   "cell_type": "code",
   "execution_count": 18,
   "id": "dd94055a",
   "metadata": {},
   "outputs": [
    {
     "ename": "AttributeError",
     "evalue": "'Scraper' object has no attribute 'get_repeating_data_from_page'",
     "output_type": "error",
     "traceback": [
      "\u001b[31m---------------------------------------------------------------------------\u001b[39m",
      "\u001b[31mAttributeError\u001b[39m                            Traceback (most recent call last)",
      "\u001b[36mCell\u001b[39m\u001b[36m \u001b[39m\u001b[32mIn[18]\u001b[39m\u001b[32m, line 1\u001b[39m\n\u001b[32m----> \u001b[39m\u001b[32m1\u001b[39m result = \u001b[43mscraper\u001b[49m\u001b[43m.\u001b[49m\u001b[43mget_repeating_data_from_page\u001b[49m(\n\u001b[32m      2\u001b[39m     target = Tag(\u001b[33m'\u001b[39m\u001b[33mdiv\u001b[39m\u001b[33m'\u001b[39m, \u001b[38;5;28mcls\u001b[39m=\u001b[33m'\u001b[39m\u001b[33mDOjaWF gdgoEp\u001b[39m\u001b[33m'\u001b[39m),\n\u001b[32m      3\u001b[39m     items = Tag(\u001b[33m'\u001b[39m\u001b[33mdiv\u001b[39m\u001b[33m'\u001b[39m, \u001b[38;5;28mcls\u001b[39m=\u001b[33m'\u001b[39m\u001b[33m_75nlfW\u001b[39m\u001b[33m'\u001b[39m),\n\u001b[32m      4\u001b[39m     titles = Tag(\u001b[33m'\u001b[39m\u001b[33mdiv\u001b[39m\u001b[33m'\u001b[39m, \u001b[38;5;28mcls\u001b[39m=\u001b[33m'\u001b[39m\u001b[33mKzDlHZ\u001b[39m\u001b[33m'\u001b[39m),\n\u001b[32m      5\u001b[39m     price = Tag(\u001b[33m'\u001b[39m\u001b[33mdiv\u001b[39m\u001b[33m'\u001b[39m, \u001b[38;5;28mcls\u001b[39m=\u001b[33m'\u001b[39m\u001b[33mNx9bqj _4b5DiR\u001b[39m\u001b[33m'\u001b[39m)\n\u001b[32m      6\u001b[39m )\n",
      "\u001b[31mAttributeError\u001b[39m: 'Scraper' object has no attribute 'get_repeating_data_from_page'"
     ]
    }
   ],
   "source": [
    "result = scraper.get_repeating_data_from_page(\n",
    "    target = Tag('div', cls='DOjaWF gdgoEp'),\n",
    "    items = Tag('div', cls='_75nlfW'),\n",
    "    titles = Tag('div', cls='KzDlHZ'),\n",
    "    price = Tag('div', cls='Nx9bqj _4b5DiR')\n",
    ")"
   ]
  }
 ],
 "metadata": {
  "kernelspec": {
   "display_name": "base",
   "language": "python",
   "name": "python3"
  },
  "language_info": {
   "codemirror_mode": {
    "name": "ipython",
    "version": 3
   },
   "file_extension": ".py",
   "mimetype": "text/x-python",
   "name": "python",
   "nbconvert_exporter": "python",
   "pygments_lexer": "ipython3",
   "version": "3.13.2"
  }
 },
 "nbformat": 4,
 "nbformat_minor": 5
}
