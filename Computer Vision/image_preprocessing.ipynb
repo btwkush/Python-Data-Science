{
 "cells": [
  {
   "cell_type": "code",
   "execution_count": 30,
   "id": "57bc3e64",
   "metadata": {},
   "outputs": [],
   "source": [
    "import cv2"
   ]
  },
  {
   "cell_type": "code",
   "execution_count": 31,
   "id": "8bb0bfae",
   "metadata": {},
   "outputs": [],
   "source": [
    "image = cv2.imread('image.png')#make this pic jpg then run image in another cell"
   ]
  },
  {
   "cell_type": "code",
   "execution_count": 32,
   "id": "ca55568a",
   "metadata": {},
   "outputs": [
    {
     "data": {
      "text/plain": [
       "array([[[148, 155, 161],\n",
       "        [148, 156, 161],\n",
       "        [148, 155, 161],\n",
       "        ...,\n",
       "        [195, 167, 176],\n",
       "        [194, 165, 176],\n",
       "        [194, 164, 175]],\n",
       "\n",
       "       [[148, 155, 161],\n",
       "        [148, 155, 161],\n",
       "        [148, 156, 161],\n",
       "        ...,\n",
       "        [195, 166, 175],\n",
       "        [195, 164, 175],\n",
       "        [195, 165, 175]],\n",
       "\n",
       "       [[148, 156, 161],\n",
       "        [148, 155, 161],\n",
       "        [148, 156, 161],\n",
       "        ...,\n",
       "        [196, 169, 177],\n",
       "        [196, 166, 176],\n",
       "        [196, 170, 176]],\n",
       "\n",
       "       ...,\n",
       "\n",
       "       [[ 40,  43,  36],\n",
       "        [ 40,  43,  36],\n",
       "        [ 40,  43,  36],\n",
       "        ...,\n",
       "        [ 40,  42,  40],\n",
       "        [ 40,  42,  40],\n",
       "        [ 40,  43,  40]],\n",
       "\n",
       "       [[ 40,  43,  36],\n",
       "        [ 40,  43,  36],\n",
       "        [ 40,  43,  36],\n",
       "        ...,\n",
       "        [ 39,  42,  39],\n",
       "        [ 39,  42,  39],\n",
       "        [ 40,  42,  40]],\n",
       "\n",
       "       [[ 39,  42,  36],\n",
       "        [ 39,  42,  36],\n",
       "        [ 39,  42,  36],\n",
       "        ...,\n",
       "        [ 39,  42,  39],\n",
       "        [ 39,  42,  39],\n",
       "        [ 39,  41,  39]]], shape=(395, 654, 3), dtype=uint8)"
      ]
     },
     "execution_count": 32,
     "metadata": {},
     "output_type": "execute_result"
    }
   ],
   "source": [
    "image"
   ]
  },
  {
   "cell_type": "code",
   "execution_count": 33,
   "id": "e55772ff",
   "metadata": {},
   "outputs": [],
   "source": [
    "if image is not None:\n",
    "    cv2.imshow('Image', image)\n",
    "    cv2.waitKey(0)\n",
    "    cv2.destroyAllWindows()"
   ]
  },
  {
   "cell_type": "code",
   "execution_count": 34,
   "id": "e4320455",
   "metadata": {},
   "outputs": [
    {
     "data": {
      "text/plain": [
       "array([[[148, 155, 161],\n",
       "        [148, 156, 161],\n",
       "        [148, 155, 161],\n",
       "        ...,\n",
       "        [195, 167, 176],\n",
       "        [194, 165, 176],\n",
       "        [194, 164, 175]],\n",
       "\n",
       "       [[148, 155, 161],\n",
       "        [148, 155, 161],\n",
       "        [148, 156, 161],\n",
       "        ...,\n",
       "        [195, 166, 175],\n",
       "        [195, 164, 175],\n",
       "        [195, 165, 175]],\n",
       "\n",
       "       [[148, 156, 161],\n",
       "        [148, 155, 161],\n",
       "        [148, 156, 161],\n",
       "        ...,\n",
       "        [196, 169, 177],\n",
       "        [196, 166, 176],\n",
       "        [196, 170, 176]],\n",
       "\n",
       "       ...,\n",
       "\n",
       "       [[ 40,  43,  36],\n",
       "        [ 40,  43,  36],\n",
       "        [ 40,  43,  36],\n",
       "        ...,\n",
       "        [ 40,  42,  40],\n",
       "        [ 40,  42,  40],\n",
       "        [ 40,  43,  40]],\n",
       "\n",
       "       [[ 40,  43,  36],\n",
       "        [ 40,  43,  36],\n",
       "        [ 40,  43,  36],\n",
       "        ...,\n",
       "        [ 39,  42,  39],\n",
       "        [ 39,  42,  39],\n",
       "        [ 40,  42,  40]],\n",
       "\n",
       "       [[ 39,  42,  36],\n",
       "        [ 39,  42,  36],\n",
       "        [ 39,  42,  36],\n",
       "        ...,\n",
       "        [ 39,  42,  39],\n",
       "        [ 39,  42,  39],\n",
       "        [ 39,  41,  39]]], shape=(395, 654, 3), dtype=uint8)"
      ]
     },
     "execution_count": 34,
     "metadata": {},
     "output_type": "execute_result"
    }
   ],
   "source": [
    "image"
   ]
  },
  {
   "cell_type": "code",
   "execution_count": 40,
   "id": "9e08bba0",
   "metadata": {},
   "outputs": [],
   "source": [
    "gray_image = cv2.cvtColor(image,cv2.COLOR_BGR2GRAY)\n",
    "cv2.imshow('Image',gray_image)\n",
    "cv2.waitKey(0)\n",
    "cv2.destroyAllWindows()"
   ]
  },
  {
   "cell_type": "code",
   "execution_count": 43,
   "id": "16ddfed9",
   "metadata": {},
   "outputs": [],
   "source": [
    "blurred_image = cv2.GaussianBlur(image, (15,15),0)\n",
    "cv2.imshow('Blurred Image',blurred_image)\n",
    "cv2.waitKey(0)\n",
    "cv2.destroyAllWindows()"
   ]
  },
  {
   "cell_type": "code",
   "execution_count": 45,
   "id": "78e64887",
   "metadata": {},
   "outputs": [],
   "source": [
    "edges = cv2.Canny(gray_image, 100,200,0)\n",
    "cv2.imshow('Edges',edges)\n",
    "cv2.waitKey(0)\n",
    "cv2.destroyAllWindows()"
   ]
  },
  {
   "cell_type": "code",
   "execution_count": 53,
   "id": "7ba1c8c7",
   "metadata": {},
   "outputs": [],
   "source": [
    "small_image = cv2.resize(image,(600,400))\n",
    "cv2.imshow('Small image',small_image)\n",
    "cv2.waitKey(0)\n",
    "cv2.destroyAllWindows()"
   ]
  },
  {
   "cell_type": "code",
   "execution_count": 54,
   "id": "35168bee",
   "metadata": {},
   "outputs": [
    {
     "data": {
      "text/plain": [
       "(395, 654, 3)"
      ]
     },
     "execution_count": 54,
     "metadata": {},
     "output_type": "execute_result"
    }
   ],
   "source": [
    "image.shape"
   ]
  },
  {
   "cell_type": "code",
   "execution_count": 74,
   "id": "8929798a",
   "metadata": {},
   "outputs": [],
   "source": [
    "cropped_image = image[75:380,215:525]\n",
    "cv2.imshow('Cropped Image',cropped_image)\n",
    "cv2.waitKey(0)\n",
    "cv2.destroyAllWindows()"
   ]
  }
 ],
 "metadata": {
  "kernelspec": {
   "display_name": "base",
   "language": "python",
   "name": "python3"
  },
  "language_info": {
   "codemirror_mode": {
    "name": "ipython",
    "version": 3
   },
   "file_extension": ".py",
   "mimetype": "text/x-python",
   "name": "python",
   "nbconvert_exporter": "python",
   "pygments_lexer": "ipython3",
   "version": "3.13.2"
  }
 },
 "nbformat": 4,
 "nbformat_minor": 5
}
