{
 "cells": [
  {
   "cell_type": "code",
   "execution_count": null,
   "id": "0998716a",
   "metadata": {},
   "outputs": [
    {
     "name": "stdout",
     "output_type": "stream",
     "text": [
      "['Apple', 'Banana', 'Cherry'] "
     ]
    }
   ],
   "source": [
    "#Q: Create a list of 3 fruits and print the list.\n",
    "fruits = ['Apple','Banana','Cherry']\n",
    "print(fruits)"
   ]
  },
  {
   "cell_type": "code",
   "execution_count": null,
   "id": "1c1039e3",
   "metadata": {},
   "outputs": [
    {
     "name": "stdout",
     "output_type": "stream",
     "text": [
      "['Blue', 'Black', 'Pink']\n"
     ]
    }
   ],
   "source": [
    "#Q: Create a list of 2 colors, add one more color to it, and print the updated list.\n",
    "colors = ['Blue','Black']\n",
    "colors.append('Pink')\n",
    "print(colors)"
   ]
  },
  {
   "cell_type": "code",
   "execution_count": 5,
   "id": "f8c423c4",
   "metadata": {},
   "outputs": [
    {
     "name": "stdout",
     "output_type": "stream",
     "text": [
      "1\n",
      "2\n"
     ]
    }
   ],
   "source": [
    "#Q: Create a list of 5 numbers and print the first and last elements.\n",
    "num = [1,3,6,8,2]\n",
    "print(num[0])\n",
    "print(num[-1])"
   ]
  },
  {
   "cell_type": "code",
   "execution_count": 7,
   "id": "f311ff32",
   "metadata": {},
   "outputs": [
    {
     "name": "stdout",
     "output_type": "stream",
     "text": [
      "['Tiger', 'Gorilla']\n"
     ]
    }
   ],
   "source": [
    "#Q: Create a list of 3 animals, remove one animal from the list, and print the result.\n",
    "animals = ['Tiger','Lion','Gorilla']\n",
    "animals.pop(1)\n",
    "print(animals)"
   ]
  },
  {
   "cell_type": "code",
   "execution_count": 8,
   "id": "cd7e6126",
   "metadata": {},
   "outputs": [
    {
     "name": "stdout",
     "output_type": "stream",
     "text": [
      "[1, 3, 4, 6, 9]\n"
     ]
    }
   ],
   "source": [
    "#Q: Create a list of 5 numbers, sort them in ascending order, and print the sorted list\n",
    "num = [3,6,4,1,9]\n",
    "num.sort()\n",
    "print(num)"
   ]
  },
  {
   "cell_type": "code",
   "execution_count": 10,
   "id": "50014e0d",
   "metadata": {},
   "outputs": [
    {
     "name": "stdout",
     "output_type": "stream",
     "text": [
      "4\n"
     ]
    }
   ],
   "source": [
    "#Q: Create a list of 4 cities and print how many cities are in the list.\n",
    "cities = ['Lucknow','Kanpur','Dehradun','Shimla']\n",
    "x=0\n",
    "for i in cities:\n",
    "    x+=1\n",
    "print(x)    "
   ]
  },
  {
   "cell_type": "code",
   "execution_count": 14,
   "id": "3a337cb8",
   "metadata": {},
   "outputs": [
    {
     "name": "stdout",
     "output_type": "stream",
     "text": [
      "bob is present\n"
     ]
    }
   ],
   "source": [
    "#Q: Create a list of 3 names. Check if \"Bob\" is in the list and print a message if it is.\n",
    "name = ['void','bob','John']\n",
    "for i in name:\n",
    "    if i=='bob':\n",
    "        print(\"bob is present\")  \n"
   ]
  },
  {
   "cell_type": "code",
   "execution_count": 15,
   "id": "83df544d",
   "metadata": {},
   "outputs": [
    {
     "name": "stdout",
     "output_type": "stream",
     "text": [
      "Hibiscus\n",
      "Rose\n",
      "Tulip\n"
     ]
    }
   ],
   "source": [
    "#Q: Create a list of 3 flowers and print each flower using a loop.\n",
    "flower = ['Hibiscus','Rose','Tulip']\n",
    "for i in flower:\n",
    "    print(i)"
   ]
  },
  {
   "cell_type": "code",
   "execution_count": 16,
   "id": "0958abd3",
   "metadata": {},
   "outputs": [
    {
     "name": "stdout",
     "output_type": "stream",
     "text": [
      "211\n"
     ]
    }
   ],
   "source": [
    "#Q: Create a list of 4 numbers. Find and print the sum of all numbers in the list.\n",
    "num = [34,67,12,98]\n",
    "x=0\n",
    "for i in num:\n",
    "    x=x+i\n",
    "print(x)    "
   ]
  },
  {
   "cell_type": "code",
   "execution_count": 17,
   "id": "b7333e4b",
   "metadata": {},
   "outputs": [
    {
     "name": "stdout",
     "output_type": "stream",
     "text": [
      "['a', 'f', 'r']\n"
     ]
    }
   ],
   "source": [
    "#Q: Create a list of 5 alphabets and print the first 3 alphabets using slicing.\n",
    "alphabet = ['a','f','r','w','t']\n",
    "print(alphabet[0:3])"
   ]
  },
  {
   "cell_type": "markdown",
   "id": "0deee197",
   "metadata": {},
   "source": [
    "LOOPS (GIT-HUB)"
   ]
  },
  {
   "cell_type": "code",
   "execution_count": 22,
   "id": "a48b0e89",
   "metadata": {},
   "outputs": [
    {
     "name": "stdout",
     "output_type": "stream",
     "text": [
      "1\n",
      "2\n",
      "3\n",
      "4\n",
      "5\n",
      "6\n",
      "7\n",
      "8\n",
      "9\n",
      "10\n"
     ]
    }
   ],
   "source": [
    "#Write a program to print numbers from 1 to 10 using a for loop.\n",
    "for i in range(1,11):\n",
    "    print(i)"
   ]
  },
  {
   "cell_type": "code",
   "execution_count": 24,
   "id": "37602664",
   "metadata": {},
   "outputs": [
    {
     "name": "stdout",
     "output_type": "stream",
     "text": [
      "5 * 0  =  0\n",
      "5 * 1  =  5\n",
      "5 * 2  =  10\n",
      "5 * 3  =  15\n",
      "5 * 4  =  20\n",
      "5 * 5  =  25\n",
      "5 * 6  =  30\n",
      "5 * 7  =  35\n",
      "5 * 8  =  40\n",
      "5 * 9  =  45\n",
      "5 * 10  =  50\n"
     ]
    }
   ],
   "source": [
    "#Write a program to print the multiplication table of a given number using a while loop.\n",
    "x = 0\n",
    "m = 5\n",
    "while x<11:\n",
    "    print(m ,'*', x, ' = ', m*x )\n",
    "    x+=1"
   ]
  },
  {
   "cell_type": "code",
   "execution_count": 27,
   "id": "ef77cd9e",
   "metadata": {},
   "outputs": [
    {
     "name": "stdout",
     "output_type": "stream",
     "text": [
      "2550\n"
     ]
    }
   ],
   "source": [
    "#Write a program to find the sum of all even numbers between 1 and 100 using a for loop.\n",
    "x=0\n",
    "for i in range(1,101):\n",
    "    if i%2==0:\n",
    "        x=x+i\n",
    "print(x)        \n"
   ]
  },
  {
   "cell_type": "code",
   "execution_count": 44,
   "id": "ea3d2ca4",
   "metadata": {},
   "outputs": [
    {
     "name": "stdout",
     "output_type": "stream",
     "text": [
      "Prime number\n"
     ]
    }
   ],
   "source": [
    "#Write a program to check if a given number is prime or not using a while loop.\n",
    "num = int(input(\"Enter a number\"))\n",
    "x=1\n",
    "a=0\n",
    "while x<num:\n",
    "    if num%x == 0:\n",
    "        a+=1\n",
    "        x+=1\n",
    "    else:\n",
    "        x+=1    \n",
    "if a==1:\n",
    "    print(\"Prime number\")\n",
    "else:\n",
    "    print(\"Not Prime number\")            "
   ]
  },
  {
   "cell_type": "code",
   "execution_count": 3,
   "id": "26b1c6b9",
   "metadata": {},
   "outputs": [
    {
     "name": "stdout",
     "output_type": "stream",
     "text": [
      "24\n"
     ]
    }
   ],
   "source": [
    "#Write a program to calculate the factorial of a number using a for loop.\n",
    "num = int(input(\"Enter a number\"))\n",
    "x=1\n",
    "for i in range(1,num+1):\n",
    "    x=x*i\n",
    "print(x)    "
   ]
  },
  {
   "cell_type": "code",
   "execution_count": 6,
   "id": "03b88fbe",
   "metadata": {},
   "outputs": [
    {
     "name": "stdout",
     "output_type": "stream",
     "text": [
      "0\n",
      "1\n",
      "1\n",
      "2\n",
      "3\n",
      "5\n",
      "8\n",
      "13\n",
      "21\n",
      "34\n"
     ]
    }
   ],
   "source": [
    "#Write a program to print the Fibonacci series up to a given limit using a for loop.\n",
    "x = int(input(\"Enter a number\"))\n",
    "a=0\n",
    "print(a)\n",
    "b=1\n",
    "print(b)\n",
    "c=0\n",
    "for i in range(1,x-1):\n",
    "    c=a+b\n",
    "    print(c)\n",
    "    a=b\n",
    "    b=c\n",
    "    "
   ]
  },
  {
   "cell_type": "code",
   "execution_count": 9,
   "id": "021c1f98",
   "metadata": {},
   "outputs": [
    {
     "name": "stdout",
     "output_type": "stream",
     "text": [
      "9\n"
     ]
    }
   ],
   "source": [
    "#Write a program to find the largest element in an array using a for loop.\n",
    "arr = [2,5,7,9]\n",
    "l = len(arr)\n",
    "x=0\n",
    "for i in range(0,l):\n",
    "    if arr[i]>x:\n",
    "        x=arr[i]\n",
    "print(x)        "
   ]
  },
  {
   "cell_type": "code",
   "execution_count": 9,
   "id": "9e9ff5db",
   "metadata": {},
   "outputs": [
    {
     "name": "stdout",
     "output_type": "stream",
     "text": [
      "uoy rof eid lliw i\n"
     ]
    }
   ],
   "source": [
    "#Write a program to reverse a given string using a while loop.\n",
    "str = input(\"Enter a String\")\n",
    "l = len(str)\n",
    "x=0\n",
    "new = \"\"\n",
    "while x<l:\n",
    "    new = str[x] + new\n",
    "    x+=1\n",
    "print(new)    "
   ]
  },
  {
   "cell_type": "code",
   "execution_count": null,
   "id": "79028ee7",
   "metadata": {},
   "outputs": [
    {
     "ename": "ValueError",
     "evalue": "invalid literal for int() with base 10: 'a'",
     "output_type": "error",
     "traceback": [
      "\u001b[31m---------------------------------------------------------------------------\u001b[39m",
      "\u001b[31mValueError\u001b[39m                                Traceback (most recent call last)",
      "\u001b[36mCell\u001b[39m\u001b[36m \u001b[39m\u001b[32mIn[13]\u001b[39m\u001b[32m, line 3\u001b[39m\n\u001b[32m      1\u001b[39m \u001b[38;5;66;03m#Write a program to print the ASCII values of all uppercase letters using a for loop.\u001b[39;00m\n\u001b[32m      2\u001b[39m ch = \u001b[38;5;28minput\u001b[39m(\u001b[33m'\u001b[39m\u001b[33mEnter a character\u001b[39m\u001b[33m'\u001b[39m)\n\u001b[32m----> \u001b[39m\u001b[32m3\u001b[39m \u001b[38;5;28mprint\u001b[39m(\u001b[38;5;28;43mint\u001b[39;49m\u001b[43m(\u001b[49m\u001b[43mch\u001b[49m\u001b[43m)\u001b[49m)\n",
      "\u001b[31mValueError\u001b[39m: invalid literal for int() with base 10: 'a'"
     ]
    }
   ],
   "source": [
    "#Write a program to print the ASCII values of all uppercase letters using a for loop.\n",
    "\n"
   ]
  },
  {
   "cell_type": "code",
   "execution_count": 3,
   "id": "4580bfd0",
   "metadata": {},
   "outputs": [
    {
     "name": "stdout",
     "output_type": "stream",
     "text": [
      "Palindrome\n"
     ]
    }
   ],
   "source": [
    "#Write a program to check if a given string is a palindrome using a for loop.\n",
    "str = input(\"Enter a String\")\n",
    "str1 = str\n",
    "l = len(str)\n",
    "x=0\n",
    "new = \"\"\n",
    "while x<l:\n",
    "    new = str[x] + new\n",
    "    x+=1\n",
    "if str1 == new:\n",
    "    print(\"Palindrome\")\n",
    "else:\n",
    "    print(\"Not palindrome\")"
   ]
  },
  {
   "cell_type": "code",
   "execution_count": null,
   "id": "a91381d4",
   "metadata": {},
   "outputs": [
    {
     "name": "stdout",
     "output_type": "stream",
     "text": [
      "48.2\n"
     ]
    }
   ],
   "source": [
    "#Write a program to calculate the average of a list of numbers using a for loop.\n",
    "list1 = []\n",
    "l = len(list1)\n",
    "sum = 0\n",
    "for i in list1:\n",
    "    sum = sum + i\n",
    "print(sum/l)    "
   ]
  },
  {
   "cell_type": "code",
   "execution_count": 39,
   "id": "e7b10e3b",
   "metadata": {},
   "outputs": [
    {
     "name": "stdout",
     "output_type": "stream",
     "text": [
      "6\n"
     ]
    }
   ],
   "source": [
    "#Write a program to find the smallest element in an array using a while loop.\n",
    "arr = [12,34,7,6,32]\n",
    "l = len(arr)\n",
    "s = 0\n",
    "x = 0\n",
    "while x<l:\n",
    "    if x+1<l:\n",
    "        if arr[x] < arr[x+1]:\n",
    "            s = arr[x]\n",
    "    x+=1\n",
    "print(s)        "
   ]
  },
  {
   "cell_type": "code",
   "execution_count": 41,
   "id": "54e33fe8",
   "metadata": {},
   "outputs": [
    {
     "name": "stdout",
     "output_type": "stream",
     "text": [
      "6\n"
     ]
    }
   ],
   "source": [
    "arr = [12,34,7,6,32]\n",
    "l = len(arr)\n",
    "s = arr[0]\n",
    "x = 0\n",
    "while x<l:\n",
    "    if arr[x]<s:\n",
    "        s = arr[x]\n",
    "    x = x+1\n",
    "print(s)        "
   ]
  },
  {
   "cell_type": "code",
   "execution_count": 2,
   "id": "38cff0e1",
   "metadata": {},
   "outputs": [
    {
     "name": "stdout",
     "output_type": "stream",
     "text": [
      "5\n"
     ]
    }
   ],
   "source": [
    "#Write a program to calculate the sum of digits of a number using a for loop.\n",
    "num = input(\"Enter a number\")\n",
    "sum = 0\n",
    "for i in num:\n",
    "    sum+= int(i)\n",
    "print(sum)    "
   ]
  },
  {
   "cell_type": "code",
   "execution_count": 2,
   "id": "51e79ba1",
   "metadata": {},
   "outputs": [
    {
     "ename": "TypeError",
     "evalue": "'list' object is not callable",
     "output_type": "error",
     "traceback": [
      "\u001b[31m---------------------------------------------------------------------------\u001b[39m",
      "\u001b[31mTypeError\u001b[39m                                 Traceback (most recent call last)",
      "\u001b[36mCell\u001b[39m\u001b[36m \u001b[39m\u001b[32mIn[2]\u001b[39m\u001b[32m, line 6\u001b[39m\n\u001b[32m      4\u001b[39m l=\u001b[38;5;28mlen\u001b[39m(list1)\n\u001b[32m      5\u001b[39m \u001b[38;5;28;01mwhile\u001b[39;00m x<l:\n\u001b[32m----> \u001b[39m\u001b[32m6\u001b[39m     q=\u001b[38;5;28mint\u001b[39m(\u001b[43mlist1\u001b[49m\u001b[43m(\u001b[49m\u001b[43mx\u001b[49m\u001b[43m)\u001b[49m)\n\u001b[32m      7\u001b[39m     \u001b[38;5;28;01mif\u001b[39;00m q%\u001b[32m4\u001b[39m != \u001b[32m0\u001b[39m:\n\u001b[32m      8\u001b[39m         \u001b[38;5;28mprint\u001b[39m(\u001b[33mf\u001b[39m\u001b[33m\"\u001b[39m\u001b[38;5;132;01m{\u001b[39;00mlist1(x)\u001b[38;5;132;01m}\u001b[39;00m\u001b[33m not leap year\u001b[39m\u001b[33m\"\u001b[39m)\n",
      "\u001b[31mTypeError\u001b[39m: 'list' object is not callable"
     ]
    }
   ],
   "source": [
    "#Write a program to check if a given list of years has a leap year using a while loop.\n",
    "list1 = [2005,2008,1987,1967]\n",
    "x=0\n",
    "l=len(list1)\n",
    "while x<l:\n",
    "    q=int(list1(x))\n",
    "    if q%4 != 0:\n",
    "        print(f\"{list1(x)} not leap year\")\n",
    "    x+=1    "
   ]
  }
 ],
 "metadata": {
  "kernelspec": {
   "display_name": "base",
   "language": "python",
   "name": "python3"
  },
  "language_info": {
   "codemirror_mode": {
    "name": "ipython",
    "version": 3
   },
   "file_extension": ".py",
   "mimetype": "text/x-python",
   "name": "python",
   "nbconvert_exporter": "python",
   "pygments_lexer": "ipython3",
   "version": "3.13.2"
  }
 },
 "nbformat": 4,
 "nbformat_minor": 5
}
