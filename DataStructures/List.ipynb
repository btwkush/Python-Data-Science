{
 "cells": [
  {
   "cell_type": "code",
   "execution_count": 1,
   "id": "34d17aae",
   "metadata": {},
   "outputs": [
    {
     "name": "stdout",
     "output_type": "stream",
     "text": [
      "['swiggy', 'zomato', 'whatsapp', 'facebook', 'ola', 'uber', 'rapido', 'instagram', 'twitter', 'reddit']\n"
     ]
    }
   ],
   "source": [
    "apps = ['swiggy','zomato','whatsapp','facebook','ola','uber','rapido','instagram','twitter','reddit']\n",
    "print(apps)"
   ]
  },
  {
   "cell_type": "code",
   "execution_count": 2,
   "id": "596b217e",
   "metadata": {},
   "outputs": [
    {
     "name": "stdout",
     "output_type": "stream",
     "text": [
      "swiggy zomato whatsapp facebook ola uber rapido instagram twitter reddit "
     ]
    }
   ],
   "source": [
    "for i in apps:\n",
    "    print(i, end=' ')"
   ]
  },
  {
   "cell_type": "markdown",
   "id": "269ceeaf",
   "metadata": {},
   "source": [
    "INDEXING"
   ]
  },
  {
   "cell_type": "code",
   "execution_count": 3,
   "id": "9c335e5f",
   "metadata": {},
   "outputs": [
    {
     "name": "stdout",
     "output_type": "stream",
     "text": [
      "zomato\n",
      "uber\n"
     ]
    }
   ],
   "source": [
    "print(apps[1])\n",
    "print(apps[5])"
   ]
  },
  {
   "cell_type": "code",
   "execution_count": 4,
   "id": "8d745504",
   "metadata": {},
   "outputs": [
    {
     "name": "stdout",
     "output_type": "stream",
     "text": [
      "instagram\n",
      "ola\n"
     ]
    }
   ],
   "source": [
    "print(apps[-3])\n",
    "print(apps[-6])"
   ]
  },
  {
   "cell_type": "code",
   "execution_count": 5,
   "id": "91125528",
   "metadata": {},
   "outputs": [
    {
     "name": "stdout",
     "output_type": "stream",
     "text": [
      "4\n"
     ]
    }
   ],
   "source": [
    "print(apps.index('ola'))"
   ]
  },
  {
   "cell_type": "markdown",
   "id": "14340751",
   "metadata": {},
   "source": [
    "SLICING"
   ]
  },
  {
   "cell_type": "code",
   "execution_count": 6,
   "id": "fd36b8f5",
   "metadata": {},
   "outputs": [
    {
     "name": "stdout",
     "output_type": "stream",
     "text": [
      "['whatsapp', 'facebook', 'ola', 'uber']\n"
     ]
    }
   ],
   "source": [
    "print(apps[2:6])"
   ]
  },
  {
   "cell_type": "code",
   "execution_count": 7,
   "id": "a1ec4575",
   "metadata": {},
   "outputs": [
    {
     "name": "stdout",
     "output_type": "stream",
     "text": [
      "['ola', 'uber', 'rapido', 'instagram', 'twitter', 'reddit']\n"
     ]
    }
   ],
   "source": [
    "print(apps[-6:])"
   ]
  },
  {
   "cell_type": "code",
   "execution_count": 8,
   "id": "e1d118ff",
   "metadata": {},
   "outputs": [
    {
     "name": "stdout",
     "output_type": "stream",
     "text": [
      "['swiggy', 'zomato', 'whatsapp', 'facebook', 'ola', 'uber', 'rapido', 'instagram', 'twitter', 'reddit']\n",
      "['swiggy', 'zomato', 'whatsapp', 'facebook', 'ola', 'uber', 'rapido']\n",
      "['whatsapp', 'facebook', 'ola', 'uber', 'rapido', 'instagram', 'twitter', 'reddit']\n",
      "['zomato', 'facebook', 'uber', 'instagram']\n"
     ]
    }
   ],
   "source": [
    "print(apps[:])\n",
    "print(apps[:7])\n",
    "print(apps[2:])\n",
    "print(apps[1:8:2])"
   ]
  },
  {
   "cell_type": "markdown",
   "id": "a4fdbd9a",
   "metadata": {},
   "source": [
    "LIST METHODS\n",
    "- append() - to add item at the end of the list\n",
    "- insert() - to add item at any specific position in the list\n",
    "- pop() - to delete item using its index position\n",
    "- remove() - to delete item using item name\n",
    "- copy() - to make a duplicate of the list\n",
    "- sort() - to sort the list in a particular order\n",
    "- extend() - to combine two list into a single list\n",
    "- clear() - to delte all the items from the list but not the list"
   ]
  },
  {
   "cell_type": "code",
   "execution_count": 9,
   "id": "b0ca05bc",
   "metadata": {},
   "outputs": [
    {
     "name": "stdout",
     "output_type": "stream",
     "text": [
      "['swiggy', 'zomato', 'whatsapp', 'facebook', 'ola', 'uber', 'rapido', 'instagram', 'twitter', 'reddit', 'snapchat']\n"
     ]
    }
   ],
   "source": [
    "apps.append('snapchat')\n",
    "print(apps)"
   ]
  },
  {
   "cell_type": "code",
   "execution_count": 10,
   "id": "d9cb7501",
   "metadata": {},
   "outputs": [
    {
     "name": "stdout",
     "output_type": "stream",
     "text": [
      "['swiggy', 'zomato', 'netflix', 'whatsapp', 'facebook', 'ola', 'uber', 'rapido', 'instagram', 'twitter', 'reddit', 'snapchat']\n"
     ]
    }
   ],
   "source": [
    "apps.insert(2, 'netflix')\n",
    "print(apps)"
   ]
  },
  {
   "cell_type": "code",
   "execution_count": 11,
   "id": "2787d9ed",
   "metadata": {},
   "outputs": [
    {
     "name": "stdout",
     "output_type": "stream",
     "text": [
      "['swiggy', 'zomato', 'netflix', 'whatsapp', 'facebook', 'uber', 'rapido', 'instagram', 'twitter', 'reddit', 'snapchat']\n"
     ]
    }
   ],
   "source": [
    "apps.pop(5)\n",
    "print(apps)"
   ]
  },
  {
   "cell_type": "code",
   "execution_count": 12,
   "id": "17e280d4",
   "metadata": {},
   "outputs": [
    {
     "name": "stdout",
     "output_type": "stream",
     "text": [
      "['swiggy', 'netflix', 'whatsapp', 'facebook', 'uber', 'rapido', 'instagram', 'twitter', 'reddit', 'snapchat']\n"
     ]
    }
   ],
   "source": [
    "apps.remove('zomato')\n",
    "print(apps)"
   ]
  },
  {
   "cell_type": "code",
   "execution_count": 13,
   "id": "573dfeb1",
   "metadata": {},
   "outputs": [
    {
     "name": "stdout",
     "output_type": "stream",
     "text": [
      "['swiggy', 'netflix', 'whatsapp', 'facebook', 'uber', 'rapido', 'instagram', 'twitter', 'reddit', 'snapchat']\n"
     ]
    }
   ],
   "source": [
    "apps_copy = apps.copy()\n",
    "print(apps_copy)"
   ]
  },
  {
   "cell_type": "code",
   "execution_count": 14,
   "id": "0ab2436a",
   "metadata": {},
   "outputs": [
    {
     "name": "stdout",
     "output_type": "stream",
     "text": [
      "[]\n"
     ]
    }
   ],
   "source": [
    "apps_copy.clear()\n",
    "print(apps_copy)"
   ]
  },
  {
   "cell_type": "code",
   "execution_count": 16,
   "id": "b519bdaf",
   "metadata": {},
   "outputs": [
    {
     "name": "stdout",
     "output_type": "stream",
     "text": [
      "['facebook', 'instagram', 'netflix', 'rapido', 'reddit', 'snapchat', 'swiggy', 'twitter', 'uber', 'whatsapp']\n"
     ]
    }
   ],
   "source": [
    "apps.sort()\n",
    "print(apps)"
   ]
  },
  {
   "cell_type": "code",
   "execution_count": 17,
   "id": "3cdffca0",
   "metadata": {},
   "outputs": [],
   "source": [
    "apps2 = ['hotstar','disney','prime','hbo']"
   ]
  },
  {
   "cell_type": "code",
   "execution_count": 18,
   "id": "97b54bbb",
   "metadata": {},
   "outputs": [
    {
     "name": "stdout",
     "output_type": "stream",
     "text": [
      "['facebook', 'instagram', 'netflix', 'rapido', 'reddit', 'snapchat', 'swiggy', 'twitter', 'uber', 'whatsapp', 'hotstar', 'disney', 'prime', 'hbo']\n"
     ]
    }
   ],
   "source": [
    "apps.extend(apps2)\n",
    "print(apps)"
   ]
  }
 ],
 "metadata": {
  "kernelspec": {
   "display_name": "base",
   "language": "python",
   "name": "python3"
  },
  "language_info": {
   "codemirror_mode": {
    "name": "ipython",
    "version": 3
   },
   "file_extension": ".py",
   "mimetype": "text/x-python",
   "name": "python",
   "nbconvert_exporter": "python",
   "pygments_lexer": "ipython3",
   "version": "3.13.2"
  }
 },
 "nbformat": 4,
 "nbformat_minor": 5
}
