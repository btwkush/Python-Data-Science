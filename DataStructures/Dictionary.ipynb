{
 "cells": [
  {
   "cell_type": "code",
   "execution_count": 35,
   "id": "575a0941",
   "metadata": {},
   "outputs": [
    {
     "name": "stdout",
     "output_type": "stream",
     "text": [
      "{'Aman': 56, 'Rohan': 83, 'Adi': 12}\n"
     ]
    }
   ],
   "source": [
    "stu = {'Aman':56,'Rohan':83,'Adi':12}\n",
    "print(stu)"
   ]
  },
  {
   "cell_type": "code",
   "execution_count": 36,
   "id": "1fc3f059",
   "metadata": {},
   "outputs": [
    {
     "name": "stdout",
     "output_type": "stream",
     "text": [
      "{'name': 'John Doe', 'age': 20, 'class': '12th', 'gender': 'M'}\n"
     ]
    }
   ],
   "source": [
    "student = {\n",
    "    \"name\": \"John Doe\",\n",
    "    \"age\": 20,\n",
    "    \"class\": \"12th\",\n",
    "    \"gender\": \"M\"\n",
    "}\n",
    "print(student)"
   ]
  },
  {
   "cell_type": "markdown",
   "id": "c4ff2656",
   "metadata": {},
   "source": [
    "- how to declare it\n",
    "- how to access key and value pairs\n",
    "- how to use loop in dictionary\n",
    "- indexing in dictionary\n"
   ]
  },
  {
   "cell_type": "code",
   "execution_count": 37,
   "id": "19fd63a2",
   "metadata": {},
   "outputs": [
    {
     "name": "stdout",
     "output_type": "stream",
     "text": [
      "{'Lucknow': [30, 35, 45], 'Delhi': [32, 36, 40], 'Mumbai': [28, 30, 35]}\n"
     ]
    }
   ],
   "source": [
    "temp = {\n",
    "    'Lucknow' : [30,35,45],\n",
    "    'Delhi' : [32,36,40],\n",
    "    'Mumbai' : [28,30,35]\n",
    "}\n",
    "print(temp)"
   ]
  },
  {
   "cell_type": "code",
   "execution_count": 38,
   "id": "75803878",
   "metadata": {},
   "outputs": [
    {
     "name": "stdout",
     "output_type": "stream",
     "text": [
      "{'name': 'john', 'age': 20, 'grade': '12th', 'gender': 'M'}\n"
     ]
    }
   ],
   "source": [
    "info = dict(name= input(\"Enter the name\"),age= 20,grade= \"12th\",gender= \"M\")\n",
    "print(info)"
   ]
  },
  {
   "cell_type": "code",
   "execution_count": 39,
   "id": "571e880e",
   "metadata": {},
   "outputs": [
    {
     "name": "stdout",
     "output_type": "stream",
     "text": [
      "John Doe\n",
      "20\n"
     ]
    }
   ],
   "source": [
    "#1st method to access value through key\n",
    "print(student['name'])\n",
    "print(info['age'])"
   ]
  },
  {
   "cell_type": "code",
   "execution_count": 40,
   "id": "b528a737",
   "metadata": {},
   "outputs": [
    {
     "name": "stdout",
     "output_type": "stream",
     "text": [
      "12th\n",
      "12th\n"
     ]
    }
   ],
   "source": [
    "#2nd method to access value through key\n",
    "print(student.get('class'))\n",
    "print(info.get('grade'))"
   ]
  },
  {
   "cell_type": "code",
   "execution_count": 41,
   "id": "0b09c9f8",
   "metadata": {},
   "outputs": [
    {
     "name": "stdout",
     "output_type": "stream",
     "text": [
      "{'name': 'John Doe', 'age': 20, 'class': '12th', 'gender': 'M', 'city': 'New York City'}\n"
     ]
    }
   ],
   "source": [
    "#to add new key-value pair\n",
    "student['city'] = 'New York City'\n",
    "print(student)"
   ]
  },
  {
   "cell_type": "code",
   "execution_count": 42,
   "id": "0e2d3ddd",
   "metadata": {},
   "outputs": [
    {
     "name": "stdout",
     "output_type": "stream",
     "text": [
      "{'name': 'John Doe', 'age': 20, 'class': '12th', 'gender': 'M', 'city': 'New York City', 'Father Name': 'MPY'}\n"
     ]
    }
   ],
   "source": [
    "student['Father Name'] = 'MPY'\n",
    "print(student)"
   ]
  },
  {
   "cell_type": "code",
   "execution_count": 43,
   "id": "42e49d63",
   "metadata": {},
   "outputs": [
    {
     "name": "stdout",
     "output_type": "stream",
     "text": [
      "{'name': 'John Doe', 'age': 20, 'class': '12th', 'city': 'New York City', 'Father Name': 'MPY'}\n"
     ]
    }
   ],
   "source": [
    "#to delete a key-value pair\n",
    "del student['gender']\n",
    "print(student)"
   ]
  },
  {
   "cell_type": "code",
   "execution_count": 44,
   "id": "ac08a642",
   "metadata": {},
   "outputs": [
    {
     "name": "stdout",
     "output_type": "stream",
     "text": [
      "{'name': ['John', 'Doe', 'Jane', 'Smith'], 'age': [20, 21, 22, 23]}\n"
     ]
    }
   ],
   "source": [
    "student = {\n",
    "    \"name\": ['John', 'Doe','Jane','Smith'],\n",
    "    \"age\": [20,21,22,23]\n",
    "}\n",
    "print(student)"
   ]
  },
  {
   "cell_type": "code",
   "execution_count": 45,
   "id": "3c5c662f",
   "metadata": {},
   "outputs": [
    {
     "name": "stdout",
     "output_type": "stream",
     "text": [
      "{'name': ['John', 'Doe', 'Jane', 'Smith', 'Alice'], 'age': [20, 21, 22, 23]}\n"
     ]
    }
   ],
   "source": [
    "student['name'].append('Alice')\n",
    "print(student)"
   ]
  },
  {
   "cell_type": "code",
   "execution_count": null,
   "id": "3499ce33",
   "metadata": {},
   "outputs": [
    {
     "name": "stdout",
     "output_type": "stream",
     "text": [
      "dict_keys(['name', 'age'])\n",
      "dict_values([['John', 'Doe', 'Jane', 'Smith', 'Alice'], [20, 21, 22, 23]])\n",
      "dict_items([('name', ['John', 'Doe', 'Jane', 'Smith', 'Alice']), ('age', [20, 21, 22, 23])])\n"
     ]
    }
   ],
   "source": [
    "print(student.keys())\n",
    "print(student.values())\n",
    "print(student.items())"
   ]
  },
  {
   "cell_type": "code",
   "execution_count": 47,
   "id": "4784e50b",
   "metadata": {},
   "outputs": [
    {
     "name": "stdout",
     "output_type": "stream",
     "text": [
      "name\n",
      "age\n"
     ]
    }
   ],
   "source": [
    "for i in student:\n",
    "    print(i)"
   ]
  },
  {
   "cell_type": "code",
   "execution_count": 49,
   "id": "302d5c93",
   "metadata": {},
   "outputs": [
    {
     "name": "stdout",
     "output_type": "stream",
     "text": [
      "name : ['John', 'Doe', 'Jane', 'Smith', 'Alice']\n",
      "age : [20, 21, 22, 23]\n"
     ]
    }
   ],
   "source": [
    "for k,v in student.items():\n",
    "    print(f\"{k} : {v}\")"
   ]
  },
  {
   "cell_type": "code",
   "execution_count": 51,
   "id": "87336e6b",
   "metadata": {},
   "outputs": [
    {
     "name": "stdout",
     "output_type": "stream",
     "text": [
      "sum of 10 and 5 is 15\n",
      "sum of 10 and 5 is 15\n"
     ]
    }
   ],
   "source": [
    "a = 10\n",
    "b = 5\n",
    "sum = a+b\n",
    "print(\"sum of\",a,\"and\",b,\"is\",sum)\n",
    "print(f\"sum of {a} and {b} is {sum}\")"
   ]
  },
  {
   "cell_type": "code",
   "execution_count": 58,
   "id": "307d6007",
   "metadata": {},
   "outputs": [
    {
     "name": "stdout",
     "output_type": "stream",
     "text": [
      "{'emp001': {'Name': 'Alice', 'Age': 30, 'Department': 'HR'}, 'emp002': {'Name': 'Bob', 'Age': 25, 'Department': 'IT'}, 'emp003': {'Name': 'Charlie', 'Age': 28, 'Department': 'Finance'}}\n"
     ]
    }
   ],
   "source": [
    "company = {\n",
    "    \"emp001\" : {\"Name\" : \"Alice\",\"Age\" : 30, \"Department\" : \"HR\"},\n",
    "    \"emp002\" : {\"Name\" : \"Bob\",\"Age\" : 25, \"Department\" : \"IT\"},\n",
    "    \"emp003\" : {\"Name\" : \"Charlie\",\"Age\" : 28, \"Department\" : \"Finance\"}\n",
    "}\n",
    "print(company)"
   ]
  },
  {
   "cell_type": "code",
   "execution_count": 59,
   "id": "16a1f6c1",
   "metadata": {},
   "outputs": [],
   "source": [
    "from pprint import pprint"
   ]
  },
  {
   "cell_type": "code",
   "execution_count": 60,
   "id": "8c82155d",
   "metadata": {},
   "outputs": [
    {
     "name": "stdout",
     "output_type": "stream",
     "text": [
      "{'emp001': {'Age': 30, 'Department': 'HR', 'Name': 'Alice'},\n",
      " 'emp002': {'Age': 25, 'Department': 'IT', 'Name': 'Bob'},\n",
      " 'emp003': {'Age': 28, 'Department': 'Finance', 'Name': 'Charlie'}}\n"
     ]
    }
   ],
   "source": [
    "pprint(company)"
   ]
  },
  {
   "cell_type": "code",
   "execution_count": 61,
   "id": "ce2ec6cc",
   "metadata": {},
   "outputs": [
    {
     "data": {
      "text/plain": [
       "'IT'"
      ]
     },
     "execution_count": 61,
     "metadata": {},
     "output_type": "execute_result"
    }
   ],
   "source": [
    "company['emp002']['Department']"
   ]
  },
  {
   "cell_type": "code",
   "execution_count": 1,
   "id": "aff8dafe",
   "metadata": {},
   "outputs": [
    {
     "name": "stdout",
     "output_type": "stream",
     "text": [
      "28.5\n"
     ]
    }
   ],
   "source": [
    "#to calculate the average temperature of lucknow\n",
    "temp1 = int(input(\"Enter the temp\"))\n",
    "temp2 = int(input(\"Enter the temp\"))\n",
    "temp3 = int(input(\"Enter the temp\"))\n",
    "temp4 = int(input(\"Enter the temp\"))\n",
    "avg = (temp1+temp2+temp3+temp4)/4\n",
    "print(avg)"
   ]
  }
 ],
 "metadata": {
  "kernelspec": {
   "display_name": "base",
   "language": "python",
   "name": "python3"
  },
  "language_info": {
   "codemirror_mode": {
    "name": "ipython",
    "version": 3
   },
   "file_extension": ".py",
   "mimetype": "text/x-python",
   "name": "python",
   "nbconvert_exporter": "python",
   "pygments_lexer": "ipython3",
   "version": "3.13.2"
  }
 },
 "nbformat": 4,
 "nbformat_minor": 5
}
