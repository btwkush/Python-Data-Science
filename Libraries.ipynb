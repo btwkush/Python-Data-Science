{
 "cells": [
  {
   "cell_type": "code",
   "execution_count": 2,
   "id": "4b5fc30f",
   "metadata": {},
   "outputs": [],
   "source": [
    "import math"
   ]
  },
  {
   "cell_type": "code",
   "execution_count": 3,
   "id": "a73d6b6c",
   "metadata": {},
   "outputs": [
    {
     "name": "stdout",
     "output_type": "stream",
     "text": [
      "120\n",
      "4.0\n",
      "12\n",
      "2\n",
      "3.141592653589793\n",
      "0.0\n",
      "0.8414709848078965\n"
     ]
    }
   ],
   "source": [
    "print(math.factorial(5))\n",
    "print(math.sqrt(16))\n",
    "print(math.lcm(2,4,3))\n",
    "print(math.gcd(2,4))\n",
    "print(math.pi)\n",
    "print(math.log(1))\n",
    "print(math.sin(1))"
   ]
  },
  {
   "cell_type": "code",
   "execution_count": 4,
   "id": "cc3ae0ff",
   "metadata": {},
   "outputs": [],
   "source": [
    "from random import random, randint, choice, shuffle"
   ]
  },
  {
   "cell_type": "code",
   "execution_count": 5,
   "id": "5ca6867c",
   "metadata": {},
   "outputs": [
    {
     "name": "stdout",
     "output_type": "stream",
     "text": [
      "get a random number between 0 and 1:  0.8783452022727342\n",
      "get a random number between 1 and 100:  97\n",
      "Select a random element from a list:  1\n",
      "Shuffled List :  ['Jill', 'Jane', 'Jack', 'John']\n"
     ]
    }
   ],
   "source": [
    "print('get a random number between 0 and 1: ',random()) #gives value near to zero\n",
    "print('get a random number between 1 and 100: ', randint(1,100))\n",
    "print('Select a random element from a list: ',choice([1,2,3,4,5,6,7,8,9,10]))\n",
    "names = ['John','Jane','Jack','Jill']\n",
    "shuffle(names)\n",
    "print('Shuffled List : ',names)"
   ]
  },
  {
   "cell_type": "code",
   "execution_count": 6,
   "id": "3f80bef6",
   "metadata": {},
   "outputs": [],
   "source": [
    "from datetime import datetime as dt"
   ]
  },
  {
   "cell_type": "code",
   "execution_count": 7,
   "id": "d6b7d01a",
   "metadata": {},
   "outputs": [
    {
     "name": "stdout",
     "output_type": "stream",
     "text": [
      "Current Date and Time :  2025-07-07 23:08:28.034858\n"
     ]
    }
   ],
   "source": [
    "print('Current Date and Time : ', dt.now())"
   ]
  },
  {
   "cell_type": "code",
   "execution_count": 8,
   "id": "c8ac74b9",
   "metadata": {},
   "outputs": [
    {
     "name": "stdout",
     "output_type": "stream",
     "text": [
      "Current Date :  2025-07-07\n",
      "Current Time :  2025-07-07\n"
     ]
    }
   ],
   "source": [
    "print('Current Date : ', dt.now().date())\n",
    "print('Current Time : ',dt.now().date())"
   ]
  },
  {
   "cell_type": "code",
   "execution_count": 9,
   "id": "ddf56dfe",
   "metadata": {},
   "outputs": [
    {
     "name": "stdout",
     "output_type": "stream",
     "text": [
      "Current Year :  2025\n",
      "Current Month :  7\n",
      "Current Date :  7\n",
      "Current Hour :  23\n",
      "Current Minute :  8\n",
      "Current Second :  28\n",
      "Current Weekday :  0\n"
     ]
    }
   ],
   "source": [
    "print('Current Year : ',dt.now().year)\n",
    "print('Current Month : ',dt.now().month)\n",
    "print('Current Date : ',dt.now().day)\n",
    "print('Current Hour : ',dt.now().hour)\n",
    "print('Current Minute : ',dt.now().minute)\n",
    "print('Current Second : ',dt.now().second)\n",
    "print('Current Weekday : ',dt.now().weekday())\n"
   ]
  },
  {
   "cell_type": "code",
   "execution_count": 10,
   "id": "2169d107",
   "metadata": {},
   "outputs": [
    {
     "name": "stdout",
     "output_type": "stream",
     "text": [
      "07 / 07 / 25\n"
     ]
    }
   ],
   "source": [
    "date = dt.strftime(dt.now(), '%d / %m / %y')\n",
    "print(date)"
   ]
  },
  {
   "cell_type": "code",
   "execution_count": 11,
   "id": "290162d3",
   "metadata": {},
   "outputs": [
    {
     "name": "stdout",
     "output_type": "stream",
     "text": [
      "23 : 08 : 28\n"
     ]
    }
   ],
   "source": [
    "time = dt.strftime(dt.now(), '%H : %M : %S')\n",
    "print(time)"
   ]
  }
 ],
 "metadata": {
  "kernelspec": {
   "display_name": "base",
   "language": "python",
   "name": "python3"
  },
  "language_info": {
   "codemirror_mode": {
    "name": "ipython",
    "version": 3
   },
   "file_extension": ".py",
   "mimetype": "text/x-python",
   "name": "python",
   "nbconvert_exporter": "python",
   "pygments_lexer": "ipython3",
   "version": "3.13.2"
  }
 },
 "nbformat": 4,
 "nbformat_minor": 5
}
