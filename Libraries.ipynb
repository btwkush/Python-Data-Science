{
 "cells": [
  {
   "cell_type": "code",
   "execution_count": 1,
   "id": "4b5fc30f",
   "metadata": {},
   "outputs": [],
   "source": [
    "import math"
   ]
  },
  {
   "cell_type": "code",
   "execution_count": 3,
   "id": "a73d6b6c",
   "metadata": {},
   "outputs": [
    {
     "name": "stdout",
     "output_type": "stream",
     "text": [
      "120\n",
      "4.0\n",
      "12\n",
      "2\n",
      "3.141592653589793\n",
      "0.0\n",
      "0.8414709848078965\n"
     ]
    }
   ],
   "source": [
    "print(math.factorial(5))\n",
    "print(math.sqrt(16))\n",
    "print(math.lcm(2,4,3))\n",
    "print(math.gcd(2,4))\n",
    "print(math.pi)\n",
    "print(math.log(1))\n",
    "print(math.sin(1))"
   ]
  },
  {
   "cell_type": "code",
   "execution_count": 4,
   "id": "cc3ae0ff",
   "metadata": {},
   "outputs": [],
   "source": [
    "from random import random, randint, choice, shuffle"
   ]
  },
  {
   "cell_type": "code",
   "execution_count": 129,
   "id": "5ca6867c",
   "metadata": {},
   "outputs": [
    {
     "name": "stdout",
     "output_type": "stream",
     "text": [
      "get a random number between 0 and 1:  0.640623592178826\n",
      "get a random number between 1 and 100:  58\n",
      "Select a random element from a list:  7\n",
      "Shuffled List :  ['Jack', 'Jill', 'Jane', 'John']\n"
     ]
    }
   ],
   "source": [
    "print('get a random number between 0 and 1: ',random()) #gives value near to zero\n",
    "print('get a random number between 1 and 100: ', randint(1,100))\n",
    "print('Select a random element from a list: ',choice([1,2,3,4,5,6,7,8,9,10]))\n",
    "names = ['John','Jane','Jack','Jill']\n",
    "shuffle(names)\n",
    "print('Shuffled List : ',names)"
   ]
  },
  {
   "cell_type": "code",
   "execution_count": 130,
   "id": "3f80bef6",
   "metadata": {},
   "outputs": [],
   "source": [
    "from datetime import datetime as dt"
   ]
  },
  {
   "cell_type": "code",
   "execution_count": 132,
   "id": "d6b7d01a",
   "metadata": {},
   "outputs": [
    {
     "name": "stdout",
     "output_type": "stream",
     "text": [
      "Current Date and Time :  2025-07-03 10:43:33.325793\n"
     ]
    }
   ],
   "source": [
    "print('Current Date and Time : ', dt.now())"
   ]
  },
  {
   "cell_type": "code",
   "execution_count": 133,
   "id": "c8ac74b9",
   "metadata": {},
   "outputs": [
    {
     "name": "stdout",
     "output_type": "stream",
     "text": [
      "Current Date :  2025-07-03\n",
      "Current Time :  2025-07-03\n"
     ]
    }
   ],
   "source": [
    "print('Current Date : ', dt.now().date())\n",
    "print('Current Time : ',dt.now().date())"
   ]
  },
  {
   "cell_type": "code",
   "execution_count": 134,
   "id": "ddf56dfe",
   "metadata": {},
   "outputs": [
    {
     "name": "stdout",
     "output_type": "stream",
     "text": [
      "Current Year :  2025\n",
      "Current Month :  7\n",
      "Current Date :  3\n",
      "Current Hour :  10\n",
      "Current Minute :  51\n",
      "Current Second :  57\n",
      "Current Weekday :  3\n"
     ]
    }
   ],
   "source": [
    "print('Current Year : ',dt.now().year)\n",
    "print('Current Month : ',dt.now().month)\n",
    "print('Current Date : ',dt.now().day)\n",
    "print('Current Hour : ',dt.now().hour)\n",
    "print('Current Minute : ',dt.now().minute)\n",
    "print('Current Second : ',dt.now().second)\n",
    "print('Current Weekday : ',dt.now().weekday())\n"
   ]
  },
  {
   "cell_type": "code",
   "execution_count": 136,
   "id": "2169d107",
   "metadata": {},
   "outputs": [
    {
     "name": "stdout",
     "output_type": "stream",
     "text": [
      "03 / 07 / 25\n"
     ]
    }
   ],
   "source": [
    "date = dt.strftime(dt.now(), '%d / %m / %y')\n",
    "print(date)"
   ]
  },
  {
   "cell_type": "code",
   "execution_count": 140,
   "id": "290162d3",
   "metadata": {},
   "outputs": [
    {
     "name": "stdout",
     "output_type": "stream",
     "text": [
      "10 : 58 : 10\n"
     ]
    }
   ],
   "source": [
    "time = dt.strftime(dt.now(), '%H : %M : %S')\n",
    "print(time)"
   ]
  }
 ],
 "metadata": {
  "kernelspec": {
   "display_name": "base",
   "language": "python",
   "name": "python3"
  },
  "language_info": {
   "codemirror_mode": {
    "name": "ipython",
    "version": 3
   },
   "file_extension": ".py",
   "mimetype": "text/x-python",
   "name": "python",
   "nbconvert_exporter": "python",
   "pygments_lexer": "ipython3",
   "version": "3.13.2"
  }
 },
 "nbformat": 4,
 "nbformat_minor": 5
}
