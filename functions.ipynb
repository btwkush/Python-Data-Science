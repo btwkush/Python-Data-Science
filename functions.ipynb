{
 "cells": [
  {
   "cell_type": "markdown",
   "id": "72bb55dd",
   "metadata": {},
   "source": [
    "Types Of Functions\n",
    "- User Defined Functions\n",
    "    - parameterized\n",
    "    - non parameterized\n",
    "    - return \n",
    "    - non return\n",
    "    - default\n",
    "    - default parameterized\n",
    "    - lamda\n",
    "- Built-in functions    "
   ]
  },
  {
   "cell_type": "code",
   "execution_count": 7,
   "id": "99fc40b9",
   "metadata": {},
   "outputs": [],
   "source": [
    "def greet(): #function initialization\n",
    "    print(\"hello, good Morning!\")\n",
    "    print(\"how are you\")\n",
    "    print(\"i am good, thankyou\")"
   ]
  },
  {
   "cell_type": "code",
   "execution_count": 8,
   "id": "60646828",
   "metadata": {},
   "outputs": [
    {
     "name": "stdout",
     "output_type": "stream",
     "text": [
      "hello, good Morning!\n",
      "how are you\n",
      "i am good, thankyou\n"
     ]
    }
   ],
   "source": [
    "#function calling\n",
    "greet()"
   ]
  },
  {
   "cell_type": "code",
   "execution_count": 9,
   "id": "7f09dbb7",
   "metadata": {},
   "outputs": [
    {
     "name": "stdout",
     "output_type": "stream",
     "text": [
      "60\n"
     ]
    }
   ],
   "source": [
    "#parameterized function\n",
    "def add(a,b,c):\n",
    "    print(a+b+c)\n",
    "\n",
    "add(10,20,30)    "
   ]
  },
  {
   "cell_type": "code",
   "execution_count": 11,
   "id": "f0634b62",
   "metadata": {},
   "outputs": [
    {
     "name": "stdout",
     "output_type": "stream",
     "text": [
      "3.0\n"
     ]
    }
   ],
   "source": [
    "def avg(a,b,c,d,e):\n",
    "    print((a+b+c+d+e)/5)\n",
    "\n",
    "avg(1,2,3,4,5)    "
   ]
  },
  {
   "cell_type": "code",
   "execution_count": 14,
   "id": "df14a633",
   "metadata": {},
   "outputs": [
    {
     "name": "stdout",
     "output_type": "stream",
     "text": [
      "Even number\n"
     ]
    }
   ],
   "source": [
    "def num(a):\n",
    "    if a%2==0:\n",
    "        print(\"Even number\")\n",
    "    else:\n",
    "        print(\"Odd number\")   \n",
    "\n",
    "num(int(input(\"Enter a number\")))"
   ]
  },
  {
   "cell_type": "code",
   "execution_count": null,
   "id": "ad8a9065",
   "metadata": {},
   "outputs": [
    {
     "data": {
      "text/plain": [
       "200"
      ]
     },
     "execution_count": 16,
     "metadata": {},
     "output_type": "execute_result"
    }
   ],
   "source": [
    "def mul(a,b):\n",
    "    print(a*b) \n",
    "\n",
    "a = mul(10,20)\n",
    "mul(10,20)"
   ]
  },
  {
   "cell_type": "code",
   "execution_count": 18,
   "id": "334fd8f7",
   "metadata": {},
   "outputs": [
    {
     "name": "stdout",
     "output_type": "stream",
     "text": [
      "200\n"
     ]
    }
   ],
   "source": [
    "def mul(a,b):\n",
    "    return a*b \n",
    "\n",
    "a = mul(10,20)\n",
    "print(a)"
   ]
  },
  {
   "cell_type": "code",
   "execution_count": 21,
   "id": "c4c335c2",
   "metadata": {},
   "outputs": [
    {
     "name": "stdout",
     "output_type": "stream",
     "text": [
      "I LOVE USA\n",
      "I LOVE America\n",
      "I LOVE India\n"
     ]
    }
   ],
   "source": [
    "#default parameterized functiion\n",
    "def my_country(name = \"India\"):\n",
    "    return f\"I LOVE {name}\"\n",
    "\n",
    "print(my_country(\"USA\"))\n",
    "print(my_country(\"America\"))\n",
    "print(my_country())"
   ]
  },
  {
   "cell_type": "markdown",
   "id": "6d1d25c2",
   "metadata": {},
   "source": [
    "LAMBDA FUNCTIONS"
   ]
  },
  {
   "cell_type": "code",
   "execution_count": 2,
   "id": "4995916e",
   "metadata": {},
   "outputs": [
    {
     "name": "stdout",
     "output_type": "stream",
     "text": [
      "Even\n"
     ]
    }
   ],
   "source": [
    "#LAMBDA FUNCTION FOR EVEN NUMBERS\n",
    "even = lambda x : \"Even\" if x % 2 == 0 else \"odd\"\n",
    "print(even(2))"
   ]
  },
  {
   "cell_type": "code",
   "execution_count": 3,
   "id": "29685ce1",
   "metadata": {},
   "outputs": [
    {
     "name": "stdout",
     "output_type": "stream",
     "text": [
      "16\n"
     ]
    }
   ],
   "source": [
    "square = lambda x : x**2\n",
    "print(square(4))"
   ]
  },
  {
   "cell_type": "code",
   "execution_count": 6,
   "id": "2df2ffc9",
   "metadata": {},
   "outputs": [
    {
     "name": "stdout",
     "output_type": "stream",
     "text": [
      "Equilateral Triangle\n"
     ]
    }
   ],
   "source": [
    "equi = lambda x,y,z : \"Equilateral Triangle\" if x == y & y == z else \"Not Equilateral Triangle\" \n",
    "print(equi(2,2,2))"
   ]
  }
 ],
 "metadata": {
  "kernelspec": {
   "display_name": "base",
   "language": "python",
   "name": "python3"
  },
  "language_info": {
   "codemirror_mode": {
    "name": "ipython",
    "version": 3
   },
   "file_extension": ".py",
   "mimetype": "text/x-python",
   "name": "python",
   "nbconvert_exporter": "python",
   "pygments_lexer": "ipython3",
   "version": "3.13.2"
  }
 },
 "nbformat": 4,
 "nbformat_minor": 5
}
