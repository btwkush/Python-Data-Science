{
 "cells": [
  {
   "cell_type": "code",
   "execution_count": 1,
   "id": "fd20118e",
   "metadata": {},
   "outputs": [
    {
     "name": "stdout",
     "output_type": "stream",
     "text": [
      "7  is divisible by 7\n"
     ]
    }
   ],
   "source": [
    "#WAP to check if a number is divisble by 7\n",
    "num1=int(input('Enter a number'))\n",
    "if num1%7==0:\n",
    "    print(num1,' is divisible by 7')\n",
    "else:\n",
    "    print(num1,'is not divisible by 7')    "
   ]
  },
  {
   "cell_type": "code",
   "execution_count": null,
   "id": "084b268d",
   "metadata": {},
   "outputs": [],
   "source": [
    "#WAP to check if a number is perfect square"
   ]
  },
  {
   "cell_type": "code",
   "execution_count": null,
   "id": "4c0589f5",
   "metadata": {},
   "outputs": [],
   "source": [
    "#WAP to check if a number is divisble by 7 and 11\n",
    "num2=int(input('Enter a number'))\n",
    "if num2%7==0:\n",
    "    if num\n",
    "else:\n",
    "    print(num1,'is not divisible by 7')  "
   ]
  }
 ],
 "metadata": {
  "kernelspec": {
   "display_name": "base",
   "language": "python",
   "name": "python3"
  },
  "language_info": {
   "codemirror_mode": {
    "name": "ipython",
    "version": 3
   },
   "file_extension": ".py",
   "mimetype": "text/x-python",
   "name": "python",
   "nbconvert_exporter": "python",
   "pygments_lexer": "ipython3",
   "version": "3.13.2"
  }
 },
 "nbformat": 4,
 "nbformat_minor": 5
}
