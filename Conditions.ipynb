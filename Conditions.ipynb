{
 "cells": [
  {
   "cell_type": "code",
   "execution_count": 14,
   "id": "f4931e70",
   "metadata": {},
   "outputs": [],
   "source": [
    "a,b =5,10\n",
    "c=a+b"
   ]
  },
  {
   "cell_type": "code",
   "execution_count": 15,
   "id": "957f0c1c",
   "metadata": {},
   "outputs": [
    {
     "name": "stdout",
     "output_type": "stream",
     "text": [
      "15\n"
     ]
    }
   ],
   "source": [
    "print(c)"
   ]
  },
  {
   "cell_type": "code",
   "execution_count": 16,
   "id": "9adb6020",
   "metadata": {},
   "outputs": [
    {
     "data": {
      "text/plain": [
       "'kush'"
      ]
     },
     "execution_count": 16,
     "metadata": {},
     "output_type": "execute_result"
    }
   ],
   "source": [
    "input(\"Enter your name\")"
   ]
  },
  {
   "cell_type": "code",
   "execution_count": 27,
   "id": "4429f655",
   "metadata": {},
   "outputs": [],
   "source": [
    "num1=int(input(\"Enter the first number\"))\n",
    "num2=int(input(\"Enter the second number\"))"
   ]
  },
  {
   "cell_type": "code",
   "execution_count": 25,
   "id": "8de61f14",
   "metadata": {},
   "outputs": [
    {
     "data": {
      "text/plain": [
       "int"
      ]
     },
     "execution_count": 25,
     "metadata": {},
     "output_type": "execute_result"
    }
   ],
   "source": [
    "type(num1)"
   ]
  },
  {
   "cell_type": "code",
   "execution_count": 24,
   "id": "5a81f4fe",
   "metadata": {},
   "outputs": [
    {
     "data": {
      "text/plain": [
       "57"
      ]
     },
     "execution_count": 24,
     "metadata": {},
     "output_type": "execute_result"
    }
   ],
   "source": [
    "num1+num2"
   ]
  },
  {
   "cell_type": "code",
   "execution_count": 30,
   "id": "7f9cb268",
   "metadata": {},
   "outputs": [
    {
     "name": "stdout",
     "output_type": "stream",
     "text": [
      "odd number\n"
     ]
    }
   ],
   "source": [
    "x=29\n",
    "if x%2==0:\n",
    "    print('block starts here')\n",
    "    print('even number')\n",
    "else:\n",
    "    print('odd number')    "
   ]
  },
  {
   "cell_type": "code",
   "execution_count": 33,
   "id": "814c2481",
   "metadata": {},
   "outputs": [
    {
     "name": "stdout",
     "output_type": "stream",
     "text": [
      "The person is eligible for the Dl\n"
     ]
    }
   ],
   "source": [
    "#WAP to check if a person is eligible for DL\n",
    "\n",
    "age=int(input(\"Enter the age of the person\"))\n",
    "if age>=18:\n",
    "    print('The person is eligible for the Dl')\n",
    "else:\n",
    "    print('The person is not eligible for the DL')"
   ]
  },
  {
   "cell_type": "code",
   "execution_count": 34,
   "id": "493a7c63",
   "metadata": {},
   "outputs": [
    {
     "name": "stdout",
     "output_type": "stream",
     "text": [
      "Number is positive\n"
     ]
    }
   ],
   "source": [
    "#WAP to check if number is positive,negative or zero\n",
    "\n",
    "mynum = int(input('Enter the number'))\n",
    "if mynum>0:\n",
    "    print('Number is positive')\n",
    "elif mynum<0:\n",
    "    print('Number is negative')\n",
    "else:\n",
    "    print('zero')        "
   ]
  },
  {
   "cell_type": "code",
   "execution_count": 40,
   "id": "f878c6d4",
   "metadata": {},
   "outputs": [
    {
     "name": "stdout",
     "output_type": "stream",
     "text": [
      "23  is greater\n"
     ]
    }
   ],
   "source": [
    "#WAP find the greater of two numbers\n",
    "\n",
    "num3 = int(input('Enter the number'))\n",
    "num4 = int(input('Enter the number'))\n",
    "if num3>num4:\n",
    "    print(num3,' is greater')\n",
    "elif num4>num3:\n",
    "    print(num4,' is greater')  \n",
    "else:\n",
    "    print('both are equal')      "
   ]
  },
  {
   "cell_type": "code",
   "execution_count": 50,
   "id": "1dedff07",
   "metadata": {},
   "outputs": [
    {
     "name": "stdout",
     "output_type": "stream",
     "text": [
      "23  is largest\n"
     ]
    }
   ],
   "source": [
    "#WAP to find the largest of three numbers\n",
    "\n",
    "x = int(input('Enter the number'))\n",
    "y = int(input('Enter the number'))\n",
    "z = int(input('Enter the number'))\n",
    "if x>y:\n",
    "    if x>z:\n",
    "        print(x,' is largest')\n",
    "    else:\n",
    "        print(z,' is largest')    \n",
    "else:\n",
    "    if y>z:\n",
    "        print(y,' is largest')\n",
    "    else:\n",
    "        print(z,' is largest')         "
   ]
  },
  {
   "cell_type": "code",
   "execution_count": null,
   "id": "3ea9468d",
   "metadata": {},
   "outputs": [],
   "source": []
  }
 ],
 "metadata": {
  "kernelspec": {
   "display_name": "base",
   "language": "python",
   "name": "python3"
  },
  "language_info": {
   "codemirror_mode": {
    "name": "ipython",
    "version": 3
   },
   "file_extension": ".py",
   "mimetype": "text/x-python",
   "name": "python",
   "nbconvert_exporter": "python",
   "pygments_lexer": "ipython3",
   "version": "3.13.2"
  }
 },
 "nbformat": 4,
 "nbformat_minor": 5
}
