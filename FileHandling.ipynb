{
 "cells": [
  {
   "cell_type": "code",
   "execution_count": 1,
   "id": "1d43c06a",
   "metadata": {},
   "outputs": [],
   "source": [
    "import os"
   ]
  },
  {
   "cell_type": "code",
   "execution_count": 2,
   "id": "aa51c2a4",
   "metadata": {},
   "outputs": [
    {
     "name": "stdout",
     "output_type": "stream",
     "text": [
      "Current Working Directory is :  d:\\digi\n"
     ]
    }
   ],
   "source": [
    "print('Current Working Directory is : ',os.getcwd())"
   ]
  },
  {
   "cell_type": "code",
   "execution_count": null,
   "id": "b8a5bb57",
   "metadata": {},
   "outputs": [
    {
     "name": "stdout",
     "output_type": "stream",
     "text": [
      "Filees in current working directory ['.git', 'Armstrong.py', 'Conditions.ipynb', 'DataStructures', 'Fibonacci.py', 'FileHandling.ipynb', 'functions.ipynb', 'HelloWorld.ipynb', 'HW1206.ipynb', 'Libraries.ipynb', 'LogicBuilding.ipynb', 'Loops.ipynb', 'Palindrome.py', 'Prime.py', 'Questions.ipynb']\n",
      "Number of files in specified directory :  15\n"
     ]
    }
   ],
   "source": [
    "files = os.listdir()\n",
    "print('Files in current working directory',files)\n",
    "print('Number of files in specified directory : ',len(files))"
   ]
  },
  {
   "cell_type": "code",
   "execution_count": 6,
   "id": "bd847cd7",
   "metadata": {},
   "outputs": [
    {
     "name": "stdout",
     "output_type": "stream",
     "text": [
      "=> d:\\digi\n",
      "📂 ['.git', 'DataStructures']\n",
      "🗄️ ['Armstrong.py', 'Conditions.ipynb', 'Fibonacci.py', 'FileHandling.ipynb', 'functions.ipynb', 'HelloWorld.ipynb', 'HW1206.ipynb', 'Libraries.ipynb', 'LogicBuilding.ipynb', 'Loops.ipynb', 'Palindrome.py', 'Prime.py', 'Questions.ipynb']\n",
      "=> d:\\digi\\.git\n",
      "📂 ['hooks', 'info', 'logs', 'objects', 'refs']\n",
      "🗄️ ['COMMIT_EDITMSG', 'config', 'description', 'HEAD', 'index']\n",
      "=> d:\\digi\\.git\\hooks\n",
      "📂 []\n",
      "🗄️ ['applypatch-msg.sample', 'commit-msg.sample', 'fsmonitor-watchman.sample', 'post-update.sample', 'pre-applypatch.sample', 'pre-commit.sample', 'pre-merge-commit.sample', 'pre-push.sample', 'pre-rebase.sample', 'pre-receive.sample', 'prepare-commit-msg.sample', 'push-to-checkout.sample', 'sendemail-validate.sample', 'update.sample']\n",
      "=> d:\\digi\\.git\\info\n",
      "📂 []\n",
      "🗄️ ['exclude']\n",
      "=> d:\\digi\\.git\\logs\n",
      "📂 ['refs']\n",
      "🗄️ ['HEAD']\n",
      "=> d:\\digi\\.git\\logs\\refs\n",
      "📂 ['heads', 'remotes']\n",
      "🗄️ []\n",
      "=> d:\\digi\\.git\\logs\\refs\\heads\n",
      "📂 []\n",
      "🗄️ ['main']\n",
      "=> d:\\digi\\.git\\logs\\refs\\remotes\n",
      "📂 ['origin']\n",
      "🗄️ []\n",
      "=> d:\\digi\\.git\\logs\\refs\\remotes\\origin\n",
      "📂 []\n",
      "🗄️ ['main']\n",
      "=> d:\\digi\\.git\\objects\n",
      "📂 ['2e', '43', '4d', '5e', '72', '84', '8a', '8d', 'a2', 'c8', 'cf', 'e5', 'e6', 'f0', 'f3', 'info', 'pack']\n",
      "🗄️ []\n",
      "=> d:\\digi\\.git\\objects\\2e\n",
      "📂 []\n",
      "🗄️ ['5d9c5556dc619999778f87b10bc4835d3632b1']\n",
      "=> d:\\digi\\.git\\objects\\43\n",
      "📂 []\n",
      "🗄️ ['b838ab8f0e47a72bdd492e21d22e4898983d83']\n",
      "=> d:\\digi\\.git\\objects\\4d\n",
      "📂 []\n",
      "🗄️ ['8e0d891f8e8757977a4e4bcb076b88e4e57eca']\n",
      "=> d:\\digi\\.git\\objects\\5e\n",
      "📂 []\n",
      "🗄️ ['cd72133bda677bb4ad2a3f165738bd0bdaea00']\n",
      "=> d:\\digi\\.git\\objects\\72\n",
      "📂 []\n",
      "🗄️ ['33bd2d651f4d990cd067c5e7d6a9db58879266']\n",
      "=> d:\\digi\\.git\\objects\\84\n",
      "📂 []\n",
      "🗄️ ['ed21d9561d5d2b25d97858f35a609ff455a937']\n",
      "=> d:\\digi\\.git\\objects\\8a\n",
      "📂 []\n",
      "🗄️ ['04e2a77d93765b993d672aff74c31e16c38353']\n",
      "=> d:\\digi\\.git\\objects\\8d\n",
      "📂 []\n",
      "🗄️ ['6f3f76b34ff784a71f5e218d9b8413453df7be']\n",
      "=> d:\\digi\\.git\\objects\\a2\n",
      "📂 []\n",
      "🗄️ ['1edeba771d64da910c873288123d5b957752c9', '6d83ac0d79a0b69f15de24148b50b02988fcc4']\n",
      "=> d:\\digi\\.git\\objects\\c8\n",
      "📂 []\n",
      "🗄️ ['6ae743d4781950ebcf27d5432fa8614b6ea57e']\n",
      "=> d:\\digi\\.git\\objects\\cf\n",
      "📂 []\n",
      "🗄️ ['32756de78862f95f1a72850f17603f614037be']\n",
      "=> d:\\digi\\.git\\objects\\e5\n",
      "📂 []\n",
      "🗄️ ['28c1d347f269c521a6fd9a3b58558e75580d6b']\n",
      "=> d:\\digi\\.git\\objects\\e6\n",
      "📂 []\n",
      "🗄️ ['9de29bb2d1d6434b8b29ae775ad8c2e48c5391']\n",
      "=> d:\\digi\\.git\\objects\\f0\n",
      "📂 []\n",
      "🗄️ ['24e2b70f2913bcd22dbc80e609d4ee683c558f']\n",
      "=> d:\\digi\\.git\\objects\\f3\n",
      "📂 []\n",
      "🗄️ ['b2852f4cc460e94c22b5cd8ed6729aa4843646', 'ca691d3cf147e188fd866f4901afc09c9858cf']\n",
      "=> d:\\digi\\.git\\objects\\info\n",
      "📂 []\n",
      "🗄️ []\n",
      "=> d:\\digi\\.git\\objects\\pack\n",
      "📂 []\n",
      "🗄️ []\n",
      "=> d:\\digi\\.git\\refs\n",
      "📂 ['heads', 'remotes', 'tags']\n",
      "🗄️ []\n",
      "=> d:\\digi\\.git\\refs\\heads\n",
      "📂 []\n",
      "🗄️ ['main']\n",
      "=> d:\\digi\\.git\\refs\\remotes\n",
      "📂 ['origin']\n",
      "🗄️ []\n",
      "=> d:\\digi\\.git\\refs\\remotes\\origin\n",
      "📂 []\n",
      "🗄️ ['main']\n",
      "=> d:\\digi\\.git\\refs\\tags\n",
      "📂 []\n",
      "🗄️ []\n",
      "=> d:\\digi\\DataStructures\n",
      "📂 []\n",
      "🗄️ ['Dictionary.ipynb', 'List.ipynb', 'Sets.ipynb', 'String.ipynb']\n",
      "Total files in directory tree :  59\n"
     ]
    }
   ],
   "source": [
    "total_files = 0\n",
    "for path, folders, files in os.walk(r\"d:\\digi\"):\n",
    "    print('=>', path)\n",
    "    print('📂', folders)\n",
    "    print('🗄️', files)\n",
    "    total_files += len(files)\n",
    "print('Total files in directory tree : ', total_files)     "
   ]
  },
  {
   "cell_type": "code",
   "execution_count": 7,
   "id": "0e077e47",
   "metadata": {},
   "outputs": [
    {
     "name": "stdout",
     "output_type": "stream",
     "text": [
      "File exists\n"
     ]
    },
    {
     "name": "stderr",
     "output_type": "stream",
     "text": [
      "<>:1: SyntaxWarning: invalid escape sequence '\\j'\n",
      "<>:1: SyntaxWarning: invalid escape sequence '\\j'\n",
      "C:\\Users\\kush6\\AppData\\Local\\Temp\\ipykernel_9904\\1732147255.py:1: SyntaxWarning: invalid escape sequence '\\j'\n",
      "  files = \"d:\\java\"\n"
     ]
    }
   ],
   "source": [
    "files = \"d:\\java\"\n",
    "if os.path.exists(files):\n",
    "    print(\"File exists\")\n",
    "else:\n",
    "    print(\"File does not exists\")    "
   ]
  }
 ],
 "metadata": {
  "kernelspec": {
   "display_name": "base",
   "language": "python",
   "name": "python3"
  },
  "language_info": {
   "codemirror_mode": {
    "name": "ipython",
    "version": 3
   },
   "file_extension": ".py",
   "mimetype": "text/x-python",
   "name": "python",
   "nbconvert_exporter": "python",
   "pygments_lexer": "ipython3",
   "version": "3.13.2"
  }
 },
 "nbformat": 4,
 "nbformat_minor": 5
}
